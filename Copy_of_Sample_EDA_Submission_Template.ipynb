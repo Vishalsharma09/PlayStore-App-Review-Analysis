{
  "nbformat": 4,
  "nbformat_minor": 0,
  "metadata": {
    "colab": {
      "private_outputs": true,
      "provenance": [],
      "collapsed_sections": [
        "vncDsAP0Gaoa",
        "FJNUwmbgGyua",
        "w6K7xa23Elo4",
        "yQaldy8SH6Dl",
        "PH-0ReGfmX4f",
        "mDgbUHAGgjLW",
        "O_i_v8NEhb9l",
        "HhfV-JJviCcP",
        "Y3lxredqlCYt",
        "3RnN4peoiCZX",
        "x71ZqKXriCWQ",
        "7hBIi_osiCS2",
        "JlHwYmJAmNHm",
        "35m5QtbWiB9F",
        "PoPl-ycgm1ru",
        "H0kj-8xxnORC",
        "nA9Y7ga8ng1Z",
        "PBTbrJXOngz2",
        "u3PMJOP6ngxN",
        "dauF4eBmngu3",
        "bKJF3rekwFvQ",
        "MSa1f5Uengrz",
        "GF8Ens_Soomf",
        "0wOQAZs5pc--",
        "K5QZ13OEpz2H",
        "lQ7QKXXCp7Bj",
        "448CDAPjqfQr",
        "KSlN3yHqYklG",
        "t6dVpIINYklI",
        "ijmpgYnKYklI",
        "-JiQyfWJYklI",
        "EM7whBJCYoAo",
        "fge-S5ZAYoAp",
        "85gYPyotYoAp",
        "RoGjAbkUYoAp",
        "4Of9eVA-YrdM",
        "iky9q4vBYrdO",
        "F6T5p64dYrdO",
        "y-Ehk30pYrdP",
        "bamQiAODYuh1",
        "QHF8YVU7Yuh3",
        "GwzvFGzlYuh3",
        "qYpmQ266Yuh3",
        "OH-pJp9IphqM",
        "bbFf2-_FphqN",
        "_ouA3fa0phqN",
        "Seke61FWphqN",
        "PIIx-8_IphqN",
        "t27r6nlMphqO",
        "r2jJGEOYphqO",
        "b0JNsNcRphqO",
        "BZR9WyysphqO",
        "jj7wYXLtphqO",
        "eZrbJ2SmphqO",
        "rFu4xreNphqO",
        "YJ55k-q6phqO",
        "gCFgpxoyphqP",
        "OVtJsKN_phqQ",
        "lssrdh5qphqQ",
        "U2RJ9gkRphqQ",
        "1M8mcRywphqQ",
        "tgIPom80phqQ",
        "JMzcOPDDphqR",
        "x-EpHcCOp1ci",
        "X_VqEhTip1ck",
        "8zGJKyg5p1ck",
        "PVzmfK_Ep1ck",
        "n3dbpmDWp1ck",
        "ylSl6qgtp1ck",
        "ZWILFDl5p1ck",
        "M7G43BXep1ck",
        "Ag9LCva-p1cl",
        "E6MkPsBcp1cl",
        "2cELzS2fp1cl",
        "3MPXvC8up1cl",
        "NC_X3p0fY2L0",
        "UV0SzAkaZNRQ",
        "YPEH6qLeZNRQ",
        "q29F0dvdveiT",
        "EXh0U9oCveiU",
        "22aHeOlLveiV",
        "JcMwzZxoAimU",
        "8G2x9gOozGDZ",
        "gCX9965dhzqZ",
        "gIfDvo9L0UH2"
      ],
      "include_colab_link": true
    },
    "kernelspec": {
      "name": "python3",
      "display_name": "Python 3"
    },
    "language_info": {
      "name": "python"
    }
  },
  "cells": [
    {
      "cell_type": "markdown",
      "metadata": {
        "id": "view-in-github",
        "colab_type": "text"
      },
      "source": [
        "<a href=\"https://colab.research.google.com/github/Vishalsharma09/PlayStore-App-Review-Analysis/blob/main/Copy_of_Sample_EDA_Submission_Template.ipynb\" target=\"_parent\"><img src=\"https://colab.research.google.com/assets/colab-badge.svg\" alt=\"Open In Colab\"/></a>"
      ]
    },
    {
      "cell_type": "markdown",
      "source": [
        "# **Project Name**    - **AirBnb Bookings Analysis**\n",
        "\n"
      ],
      "metadata": {
        "id": "vncDsAP0Gaoa"
      }
    },
    {
      "cell_type": "markdown",
      "source": [
        "##### **Project Type**    - EDA\n",
        "##### **Contribution**    - Individual\n",
        "##### Name  -   Vishal Sharma"
      ],
      "metadata": {
        "id": "beRrZCGUAJYm"
      }
    },
    {
      "cell_type": "markdown",
      "source": [
        "# **Project Summary -**\n",
        "\n",
        "# **AirbedandBreakfast : Airbnb**\n",
        "![belo-400x400.png](data:image/png;base64,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)\n",
        "\n",
        "\n",
        "\n",
        "\n",
        "**Since 2008, guests and hosts have used Airbnb to expand on traveling possibilities and present a more unique, personalized way of experiencing the world. Today, Airbnb became one of a kind service that is used and recognized by the whole world. Data analysis on millions of listings provided through Airbnb is a crucial factor for the company. These millions of listings generate a lot of data - data that can be analyzed and used for security, business decisions, understanding of customers' and providers' (hosts) behavior and performance on the platform, guiding marketing initiatives, implementation of innovative additional services and much more.**\n",
        "\n",
        "**This dataset has around 49,000 observations in it with 16 columns and it is a mix between categorical and numeric values.** \n"
      ],
      "metadata": {
        "id": "FJNUwmbgGyua"
      }
    },
    {
      "cell_type": "markdown",
      "source": [
        "Write the summary here within 500-600 words."
      ],
      "metadata": {
        "id": "F6v_1wHtG2nS"
      }
    },
    {
      "cell_type": "markdown",
      "source": [
        "# **GitHub Link -** https://github.com/Vishalsharma09"
      ],
      "metadata": {
        "id": "w6K7xa23Elo4"
      }
    },
    {
      "cell_type": "markdown",
      "source": [
        "Provide your GitHub Link here."
      ],
      "metadata": {
        "id": "h1o69JH3Eqqn"
      }
    },
    {
      "cell_type": "markdown",
      "source": [
        "# **Problem Statement**\n"
      ],
      "metadata": {
        "id": "yQaldy8SH6Dl"
      }
    },
    {
      "cell_type": "markdown",
      "source": [
        "# **Problem Statement** \n",
        "\n",
        "\n",
        "*   What can we learn about different hosts and areas?\n",
        "*   Which hosts are the busiest and why?\n",
        "*   Is there any noticeable difference of traffic among different areas and what could be the reason for it?\n",
        "\n",
        "\n",
        "\n"
      ],
      "metadata": {
        "id": "DpeJGUA3kjGy"
      }
    },
    {
      "cell_type": "markdown",
      "source": [
        "#### **Define Your Business Objective?**"
      ],
      "metadata": {
        "id": "PH-0ReGfmX4f"
      }
    },
    {
      "cell_type": "markdown",
      "source": [
        "The mission is to Create a world where anyone can belong anywhere."
      ],
      "metadata": {
        "id": "PhDvGCAqmjP1"
      }
    },
    {
      "cell_type": "markdown",
      "source": [
        "# **General Guidelines** : -  "
      ],
      "metadata": {
        "id": "mDgbUHAGgjLW"
      }
    },
    {
      "cell_type": "markdown",
      "source": [
        "1.   Well-structured, formatted, and commented code is required. \n",
        "2.   Exception Handling, Production Grade Code & Deployment Ready Code will be a plus. Those students will be awarded some additional credits. \n",
        "     \n",
        "     The additional credits will have advantages over other students during Star Student selection.\n",
        "       \n",
        "             [ Note: - Deployment Ready Code is defined as, the whole .ipynb notebook should be executable in one go\n",
        "                       without a single error logged. ]\n",
        "\n",
        "3.   Each and every logic should have proper comments.\n",
        "4. You may add as many number of charts you want. Make Sure for each and every chart the following format should be answered.\n",
        "        \n",
        "\n",
        "```\n",
        "# Chart visualization code\n",
        "```\n",
        "            \n",
        "\n",
        "*   Why did you pick the specific chart?\n",
        "*   What is/are the insight(s) found from the chart?\n",
        "* Will the gained insights help creating a positive business impact? \n",
        "Are there any insights that lead to negative growth? Justify with specific reason.\n",
        "\n",
        "5. You have to create at least 20 logical & meaningful charts having important insights.\n",
        "\n",
        "\n",
        "[ Hints : - Do the Vizualization in  a structured way while following \"UBM\" Rule. \n",
        "\n",
        "U - Univariate Analysis,\n",
        "\n",
        "B - Bivariate Analysis (Numerical - Categorical, Numerical - Numerical, Categorical - Categorical)\n",
        "\n",
        "M - Multivariate Analysis\n",
        " ]\n",
        "\n",
        "\n",
        "\n"
      ],
      "metadata": {
        "id": "ZrxVaUj-hHfC"
      }
    },
    {
      "cell_type": "markdown",
      "source": [
        "# ***Let's Begin !***"
      ],
      "metadata": {
        "id": "O_i_v8NEhb9l"
      }
    },
    {
      "cell_type": "markdown",
      "source": [
        "## ***1. Know Your Data***"
      ],
      "metadata": {
        "id": "HhfV-JJviCcP"
      }
    },
    {
      "cell_type": "markdown",
      "source": [
        "### Import Libraries"
      ],
      "metadata": {
        "id": "Y3lxredqlCYt"
      }
    },
    {
      "cell_type": "code",
      "source": [
        "# Import Libraries\n",
        "import pandas as pd \n",
        "import numpy as np\n",
        "\n",
        "import seaborn as sns \n",
        "import matplotlib.pyplot as plt\n",
        "sns.set()\n",
        "%matplotlib inline\n",
        "\n",
        "import statistics\n",
        "from collections import Counter \n",
        "\n",
        "#NLP \n",
        "import nltk\n",
        "nltk.download('stopwords')\n",
        "from nltk.corpus import stopwords\n",
        "\n",
        "#word  could\n",
        "from wordcloud import WordCloud, ImageColorGenerator\n",
        "sns.set_theme(style=\"ticks\", color_codes=True)"
      ],
      "metadata": {
        "id": "M8Vqi-pPk-HR"
      },
      "execution_count": null,
      "outputs": []
    },
    {
      "cell_type": "markdown",
      "source": [
        "### Dataset Loading"
      ],
      "metadata": {
        "id": "3RnN4peoiCZX"
      }
    },
    {
      "cell_type": "code",
      "source": [
        "# Load Dataset"
      ],
      "metadata": {
        "id": "4CkvbW_SlZ_R"
      },
      "execution_count": null,
      "outputs": []
    },
    {
      "cell_type": "code",
      "source": [
        "from google.colab import drive\n",
        "drive.mount('/content/drive')\n"
      ],
      "metadata": {
        "id": "1ILvAieUvhJR"
      },
      "execution_count": null,
      "outputs": []
    },
    {
      "cell_type": "code",
      "source": [
        "data = pd.read_csv(\"/content/drive/MyDrive/Airbnb Booking Analysis/Airbnb NYC 2019.csv\")\n",
        "data.shape"
      ],
      "metadata": {
        "id": "-d_BczoawBEX"
      },
      "execution_count": null,
      "outputs": []
    },
    {
      "cell_type": "markdown",
      "source": [
        "## **Dataset First View**"
      ],
      "metadata": {
        "id": "0laJxjwvxdYO"
      }
    },
    {
      "cell_type": "code",
      "source": [
        "# Dataset First Look\n",
        "data.head()"
      ],
      "metadata": {
        "id": "J0lLqWApxlyF"
      },
      "execution_count": null,
      "outputs": []
    },
    {
      "cell_type": "markdown",
      "source": [
        "### Dataset Rows & Columns count"
      ],
      "metadata": {
        "id": "7hBIi_osiCS2"
      }
    },
    {
      "cell_type": "code",
      "source": [
        "# Dataset Rows & Columns count\n",
        "print(data.columns)\n",
        "rows=data.shape[0]\n",
        "columns=data.shape[1]\n",
        "print(f\"The number of rows is {rows} and number of columns is {columns}\")"
      ],
      "metadata": {
        "id": "Kllu7SJgmLij"
      },
      "execution_count": null,
      "outputs": []
    },
    {
      "cell_type": "markdown",
      "source": [
        "**Observations**:\n",
        "\n",
        "\n",
        "*   There are total 16 columns.\n",
        "*   The total number of rows are 48895.\n",
        "\n",
        "\n"
      ],
      "metadata": {
        "id": "bZYER8i1x2Uw"
      }
    },
    {
      "cell_type": "markdown",
      "source": [
        "### Dataset Information"
      ],
      "metadata": {
        "id": "JlHwYmJAmNHm"
      }
    },
    {
      "cell_type": "code",
      "source": [
        "# Dataset Info\n",
        "data.info()"
      ],
      "metadata": {
        "id": "e9hRXRi6meOf"
      },
      "execution_count": null,
      "outputs": []
    },
    {
      "cell_type": "code",
      "source": [
        "data.isnull().sum()"
      ],
      "metadata": {
        "id": "q6IKRyGSyOQO"
      },
      "execution_count": null,
      "outputs": []
    },
    {
      "cell_type": "markdown",
      "source": [
        "**Observations:**\n",
        "\n",
        "\n",
        "\n",
        "*   There are total four columns with null values.\n",
        "*   name column is having total 16 null values.\n",
        "*   host_name is having 21 null values.\n",
        "*   last_review and reviews_per_mpnth are having more null values.\n",
        "*   We will look at the columns and decide what we can do with them.\n",
        "\n",
        "\n",
        "\n",
        "\n",
        "\n"
      ],
      "metadata": {
        "id": "QopMl9R0yQFz"
      }
    },
    {
      "cell_type": "markdown",
      "source": [
        "#### Missing Values/Null Values"
      ],
      "metadata": {
        "id": "PoPl-ycgm1ru"
      }
    },
    {
      "cell_type": "code",
      "source": [
        "# Missing Values/Null Values Count\n",
        "Total = data.isnull().sum().sort_values(ascending = False) #total per column\n",
        "missing_values = round(((data.isnull().sum())*100)/data.isnull().count().sort_values(ascending=False),2)\n",
        "#missing_value data frame.\n",
        "missing_total_percentage = pd.concat([Total,missing_values],axis=1,keys = ['Total','Percentage'],sort=False).sort_values('Total',ascending=False)\n",
        "missing_total_percentage"
      ],
      "metadata": {
        "id": "GgHWkxvamxVg"
      },
      "execution_count": null,
      "outputs": []
    },
    {
      "cell_type": "code",
      "source": [
        "# Visualizing the missing values\n",
        "import missingno as msno \n",
        "msno.bar(data)"
      ],
      "metadata": {
        "id": "3q5wnI3om9sJ"
      },
      "execution_count": null,
      "outputs": []
    },
    {
      "cell_type": "markdown",
      "source": [
        "### What did you know about your dataset?"
      ],
      "metadata": {
        "id": "H0kj-8xxnORC"
      }
    },
    {
      "cell_type": "markdown",
      "source": [
        "# From data analysis point of view host_name will not be that important as its an catagorical feature and will have lots of catagories and this will not contribute in exploring the data and also from security point of view of host.\n",
        "# Columns 'last_review' & 'reviews_per_month' are having lots of mission values with 20% of whole data we will replace with 0 for NA values in 'reviews_per_month' column.\n",
        "# We will convert its data type to catagorical feature and replace 'NA' with 'never'.\n",
        "# reviews_per_month 'NA' value handling "
      ],
      "metadata": {
        "id": "gfoNAAC-nUe_"
      }
    },
    {
      "cell_type": "code",
      "source": [
        "data['last_review']"
      ],
      "metadata": {
        "id": "2ri2V6p2c1bl"
      },
      "execution_count": null,
      "outputs": []
    },
    {
      "cell_type": "code",
      "source": [
        "# to deal with NA in 'last_review', we change the column to a categorical variable (by year), \n",
        "#and those that have NA will be categorised as 'Never', as they did not get any reviews yet\n",
        "# convert the date field\n",
        "data['last_review'].fillna(value = 0, inplace = True)\n",
        "'''\n",
        "data['last_review'] = pd.to_datetime(data['last_review\"], format = '%Y-%m-%d')\n",
        "data.last_review = data['last_review'].dt.year.astype('object')\n",
        "data.last_review.fillna(value = Never, inplace = True)\n",
        "'''"
      ],
      "metadata": {
        "id": "79yshYxSc3lg"
      },
      "execution_count": null,
      "outputs": []
    },
    {
      "cell_type": "code",
      "source": [
        "data['last_review']"
      ],
      "metadata": {
        "id": "Tg54HZRCc-Q8"
      },
      "execution_count": null,
      "outputs": []
    },
    {
      "cell_type": "markdown",
      "source": [
        "## ***2. Understanding Your Variables***"
      ],
      "metadata": {
        "id": "nA9Y7ga8ng1Z"
      }
    },
    {
      "cell_type": "code",
      "source": [
        "# Dataset Columns\n",
        "print(data.columns)\n",
        "columns=data.shape[1]\n",
        "print(f\"The number of columns is {columns}.\")\n",
        "     "
      ],
      "metadata": {
        "id": "j7xfkqrt5Ag5"
      },
      "execution_count": null,
      "outputs": []
    },
    {
      "cell_type": "code",
      "source": [
        "# Dataset Describe\n",
        "data.describe()"
      ],
      "metadata": {
        "id": "DnOaZdaE5Q5t"
      },
      "execution_count": null,
      "outputs": []
    },
    {
      "cell_type": "markdown",
      "source": [
        "### Variables Description "
      ],
      "metadata": {
        "id": "PBTbrJXOngz2"
      }
    },
    {
      "cell_type": "markdown",
      "source": [
        "Observations:\n",
        "\n",
        "\n",
        "1.   Min of Price variable is 0, max is 10000.\n",
        "2.   Mean price is 152. \n",
        "3.   On an average people stay 7 days in a room.\n",
        "\n",
        "\n",
        "\n",
        "\n",
        "\n"
      ],
      "metadata": {
        "id": "aJV4KIxSnxay"
      }
    },
    {
      "cell_type": "markdown",
      "source": [
        "### Check Unique Values for each variable."
      ],
      "metadata": {
        "id": "u3PMJOP6ngxN"
      }
    },
    {
      "cell_type": "code",
      "source": [
        "# Check Unique Values for each variable.\n",
        "data.nunique(axis=0)\n",
        "     "
      ],
      "metadata": {
        "id": "zms12Yq5n-jE"
      },
      "execution_count": null,
      "outputs": []
    },
    {
      "cell_type": "markdown",
      "source": [
        "## 3. ***Data Wrangling***"
      ],
      "metadata": {
        "id": "dauF4eBmngu3"
      }
    },
    {
      "cell_type": "markdown",
      "source": [
        "### Data Wrangling Code"
      ],
      "metadata": {
        "id": "bKJF3rekwFvQ"
      }
    },
    {
      "cell_type": "code",
      "source": [
        "# Write your code to make your dataset analysis ready.\n",
        "def datainfo():\n",
        "  temp=pd.DataFrame(index=data.columns)\n",
        "  temp[\"datatype\"]=data.dtypes\n",
        "  temp[\"not null values\"]=data.count()\n",
        "  temp[\"null values\"]=data.isnull().sum()\n",
        "  temp[\"% of the null values\"]=data.isnull().mean()\n",
        "  temp[\"unique count\"]=data.nunique()\n",
        "  return temp \n",
        "datainfo()"
      ],
      "metadata": {
        "id": "wk-9a2fpoLcV"
      },
      "execution_count": null,
      "outputs": []
    },
    {
      "cell_type": "markdown",
      "source": [
        "### What all manipulations have you done and insights you found?"
      ],
      "metadata": {
        "id": "MSa1f5Uengrz"
      }
    },
    {
      "cell_type": "markdown",
      "source": [
        "rom the above, we found the datatypes of each rows. And also we found the not null values, null values, % of the null values and unique counts."
      ],
      "metadata": {
        "id": "LbyXE7I1olp8"
      }
    },
    {
      "cell_type": "markdown",
      "source": [
        "## ***4. Data Vizualization, Storytelling & Experimenting with charts : Understand the relationships between variables***"
      ],
      "metadata": {
        "id": "GF8Ens_Soomf"
      }
    },
    {
      "cell_type": "markdown",
      "source": [
        "# **Univariate Analysis:**"
      ],
      "metadata": {
        "id": "_X9raqFZeahM"
      }
    },
    {
      "cell_type": "markdown",
      "source": [
        "#### Chart - 1"
      ],
      "metadata": {
        "id": "0wOQAZs5pc--"
      }
    },
    {
      "cell_type": "code",
      "source": [
        "# Chart - 1 visualization code"
      ],
      "metadata": {
        "id": "7v_ESjsspbW7"
      },
      "execution_count": null,
      "outputs": []
    },
    {
      "cell_type": "markdown",
      "source": [
        "# **1. column_no_1:name**"
      ],
      "metadata": {
        "id": "l-uYRM_ieowb"
      }
    },
    {
      "cell_type": "code",
      "source": [
        "#name column\n",
        "data.name"
      ],
      "metadata": {
        "id": "TvZ7XrrCe78R"
      },
      "execution_count": null,
      "outputs": []
    },
    {
      "cell_type": "code",
      "source": [
        "data[data['name'].isnull()].head()"
      ],
      "metadata": {
        "id": "l54KFdc-fBz7"
      },
      "execution_count": null,
      "outputs": []
    },
    {
      "cell_type": "markdown",
      "source": [
        "Observation:\n",
        "\n",
        "\n",
        "\n",
        "1.   This columns is having names describing the property which is host is trying to give on rent,so the nature of this names is short and consise and this is required as this can draw an attention of customer.\n",
        "2.   The question arises that how to fill the missing values in this columns.we will explore further dataset and try to find out better options to fill the missing values.\n",
        "3.   This Feature can be important in model building like Recommender systems.\n",
        "4.   Of course there is no point in removing these cells although they are limited in numbers.\n",
        "\n"
      ],
      "metadata": {
        "id": "FaJ3BA59fG6q"
      }
    },
    {
      "cell_type": "code",
      "source": [
        "data.room_type"
      ],
      "metadata": {
        "id": "oorTNHOBf28e"
      },
      "execution_count": null,
      "outputs": []
    },
    {
      "cell_type": "markdown",
      "source": [
        "**Observation:**\n",
        "\n",
        "\n",
        "\n",
        "1.   room_type column is not having any null values,and also we can try to use this values in place of NAN values in name column this can solve our purpose and we can atleast put front what is the type of room!\n",
        "2.   yes, we will replace the nan values with the values which are in room_type column.\n",
        "\n",
        "\n"
      ],
      "metadata": {
        "id": "1twR5kMJf5x9"
      }
    },
    {
      "cell_type": "code",
      "source": [
        "# This code snippit will replace the nan values.\n",
        "#fillna() method will do the job . . .\n",
        "data.name.fillna(data.room_type, inplace=True)"
      ],
      "metadata": {
        "id": "zS7qnZihgKXM"
      },
      "execution_count": null,
      "outputs": []
    },
    {
      "cell_type": "code",
      "source": [
        "#check the changes.\n",
        "data.isnull().sum()\n",
        "     "
      ],
      "metadata": {
        "id": "JgFE3bStgO-s"
      },
      "execution_count": null,
      "outputs": []
    },
    {
      "cell_type": "markdown",
      "source": [
        "**Observation**:\n",
        "\n",
        "\n",
        "\n",
        "1.   We have replaced the nan values with corresponding room_type values.\n",
        "2.   This should solve our purpose.\n",
        "\n"
      ],
      "metadata": {
        "id": "tQI33NrAgSM5"
      }
    },
    {
      "cell_type": "code",
      "source": [
        "#stop words removal:\n",
        "\"\"\"\n",
        "1) download the nltk stopwords in english.\n",
        "2) replace pantuation and special symbols.\n",
        "3) make it string and convert all into lower case.\n",
        "then split the words and compair each with the stopwords and keep only those which are not in stopword list.\n",
        "\"\"\"\n",
        "def stop_word_removal(df):\n",
        "  stop = stopwords.words('english')\n",
        "  df.name = df.name.str.replace(\"[^\\w\\s]\", \"\").str.lower()\n",
        "  df.name = df.name.apply(lambda x: ' '.join([item for item in x.split() if item not in stop]))\n",
        "     "
      ],
      "metadata": {
        "id": "GXHpk2mYglSz"
      },
      "execution_count": null,
      "outputs": []
    },
    {
      "cell_type": "code",
      "source": [
        "text = stop_word_removal(data)\n",
        "text = \" \".join(str(each) for each in data.name )"
      ],
      "metadata": {
        "id": "NeoQ9VhvgpvL"
      },
      "execution_count": null,
      "outputs": []
    },
    {
      "cell_type": "code",
      "source": [
        "#wordcloud generator.\n",
        "# Create and generate a word cloud image:\n",
        "wordcloud = WordCloud(max_words=300, background_color=\"black\").generate(text)\n",
        "plt.figure(figsize=(10,6))\n",
        "plt.figure(figsize=(15,10))\n",
        "# Display the generated image:\n",
        "plt.imshow(wordcloud,interpolation='bilinear')\n",
        "plt.axis(\"off\")\n",
        "plt.show()\n",
        "pass\n"
      ],
      "metadata": {
        "id": "OceLhys2hlQq"
      },
      "execution_count": null,
      "outputs": []
    },
    {
      "cell_type": "markdown",
      "source": [
        "**Observations**:\n",
        "\n",
        "\n",
        "1.   This word cloud shows us the most frequent words.\n",
        "\n",
        "\n"
      ],
      "metadata": {
        "id": "wFpAPtzghpkS"
      }
    },
    {
      "cell_type": "code",
      "source": [
        "#after removing stop words.\n",
        "data.name"
      ],
      "metadata": {
        "id": "Bt9zOFFQh38J"
      },
      "execution_count": null,
      "outputs": []
    },
    {
      "cell_type": "markdown",
      "source": [
        "# **Top 50 words from word_cloud:**"
      ],
      "metadata": {
        "id": "kljGFX6Eh7iq"
      }
    },
    {
      "cell_type": "code",
      "source": [
        "#list of words.\n",
        "name_list = list(data.name.values)\n",
        "words = [ ]\n",
        "for i in name_list:\n",
        "  words+=i.split()"
      ],
      "metadata": {
        "id": "ESKaLSO_iBTW"
      },
      "execution_count": null,
      "outputs": []
    },
    {
      "cell_type": "code",
      "source": [
        "#let's see top 50 used words .\n",
        "#https://www.kite.com/python/docs/collections.Counter.most_common\n",
        "_top_50_words=Counter(words).most_common()\n",
        "_top_50_words=_top_50_words[0:50]\n",
        "     "
      ],
      "metadata": {
        "id": "sH3hPH3ciFF7"
      },
      "execution_count": null,
      "outputs": []
    },
    {
      "cell_type": "code",
      "source": [
        "#dataframe for top 50 words.\n",
        "top_50_words = pd.DataFrame(_top_50_words,columns = ['words','frequency'])\n",
        "     \n"
      ],
      "metadata": {
        "id": "b476njZviGnU"
      },
      "execution_count": null,
      "outputs": []
    },
    {
      "cell_type": "code",
      "source": [
        "# visualization\n",
        "plt.figure(figsize=(20,5))\n",
        "ax_1 = sns.barplot(x='words',y='frequency',data = top_50_words)\n",
        "ax_1.set_title('top 50 words')\n",
        "ax_1.set_ylabel('frequency of words')\n",
        "ax_1.set_xlabel('Words')\n",
        "ax_1.set_xticklabels(ax_1.get_xticklabels(), rotation=60)"
      ],
      "metadata": {
        "id": "u8-loA3RiJIz"
      },
      "execution_count": null,
      "outputs": []
    },
    {
      "cell_type": "markdown",
      "source": [
        "**Observations**:\n",
        "\n",
        "\n",
        "\n",
        "1.   The above observation shows us the top 50 words and there frequency.\n",
        "2.   These words can he help full in model buliding point of view.\n",
        "\n"
      ],
      "metadata": {
        "id": "mLBeVaW_iNij"
      }
    },
    {
      "cell_type": "markdown",
      "source": [
        "# **2. column_no_2 host_name:**"
      ],
      "metadata": {
        "id": "uQjJZym-id55"
      }
    },
    {
      "cell_type": "code",
      "source": [
        "data['host_name'].nunique()"
      ],
      "metadata": {
        "id": "1Q9n9nkQin7Z"
      },
      "execution_count": null,
      "outputs": []
    },
    {
      "cell_type": "markdown",
      "source": [
        "**Observations**:\n",
        "\n",
        "\n",
        "\n",
        "1.   host_name this column is defining the name of host(owner).\n",
        "\n",
        "2.  There are 11452 unique hosts/owners we can use this featue directly in model building just by encoding it.response encoding will be usefull for this feature. \n",
        "3.   we can take nan value as one data point for model building.\n",
        "\n"
      ],
      "metadata": {
        "id": "uoR33KV4ipjT"
      }
    },
    {
      "cell_type": "markdown",
      "source": [
        "#### Chart - 2"
      ],
      "metadata": {
        "id": "KSlN3yHqYklG"
      }
    },
    {
      "cell_type": "code",
      "source": [
        "# Chart - 2 visualization code"
      ],
      "metadata": {
        "id": "R4YgtaqtYklH"
      },
      "execution_count": null,
      "outputs": []
    },
    {
      "cell_type": "markdown",
      "source": [
        "# **2. column_no_3 neighbourhood_group:**"
      ],
      "metadata": {
        "id": "csxxzqbcjG0F"
      }
    },
    {
      "cell_type": "code",
      "source": [
        "data['neighbourhood_group']"
      ],
      "metadata": {
        "id": "s8Td-zILjRDC"
      },
      "execution_count": null,
      "outputs": []
    },
    {
      "cell_type": "code",
      "source": [
        "data['neighbourhood_group'].unique()"
      ],
      "metadata": {
        "id": "KVh_NG6HjSvB"
      },
      "execution_count": null,
      "outputs": []
    },
    {
      "cell_type": "code",
      "source": [
        "#count_plot\n",
        "plt.figure(figsize=(10,5))\n",
        "ax_3 = sns.countplot(x='neighbourhood_group',data = data)\n",
        "ax_3.set_title('Count of neighbourhood_group')\n",
        "ax_3.set_ylabel('frequency')\n",
        "ax_3.set_xlabel('neighbourhood_group')\n",
        "plt.show()"
      ],
      "metadata": {
        "id": "GGCovq8ijWgC"
      },
      "execution_count": null,
      "outputs": []
    },
    {
      "cell_type": "markdown",
      "source": [
        "**Observation**:\n",
        "\n",
        "\n",
        "\n",
        "1. Brooklyn and Manhattan have the highest hotel/room bookings.  \n",
        "\n"
      ],
      "metadata": {
        "id": "ERGXl8bMjZ38"
      }
    },
    {
      "cell_type": "markdown",
      "source": [
        "#### Chart - 3"
      ],
      "metadata": {
        "id": "EM7whBJCYoAo"
      }
    },
    {
      "cell_type": "code",
      "source": [
        "# Chart - 3 visualization code"
      ],
      "metadata": {
        "id": "t6GMdE67YoAp"
      },
      "execution_count": null,
      "outputs": []
    },
    {
      "cell_type": "markdown",
      "source": [
        "# **4. column_no_4 neighbourhood:**"
      ],
      "metadata": {
        "id": "-iVGVpIjjmWE"
      }
    },
    {
      "cell_type": "code",
      "source": [
        "neigh_unique_values = data['neighbourhood'].value_counts()\n",
        "neigh_unique_values"
      ],
      "metadata": {
        "id": "roYYkfT6j2w1"
      },
      "execution_count": null,
      "outputs": []
    },
    {
      "cell_type": "markdown",
      "source": [
        "**Observations**:\n",
        "\n",
        "1.  There are 221 unique neighbour. \n",
        "\n"
      ],
      "metadata": {
        "id": "zFoFBxI3j7PI"
      }
    },
    {
      "cell_type": "markdown",
      "source": [
        "**`Top 50 most common neighbours`**\n",
        "\n",
        "\n",
        "\n",
        "\n",
        "\n",
        "\n"
      ],
      "metadata": {
        "id": "myKAmGzKkDhM"
      }
    },
    {
      "cell_type": "code",
      "source": [
        "# most_common() Return a list of the n most common elements and their counts from the most common to the least.\n",
        "top_50_=Counter(data['neighbourhood']).most_common()\n",
        "top_50_=top_50_[0:50]\n",
        "top_50_[:20]"
      ],
      "metadata": {
        "id": "sde_qdLWkQxL"
      },
      "execution_count": null,
      "outputs": []
    },
    {
      "cell_type": "code",
      "source": [
        "#count_plot\n",
        "plt.figure(figsize=(20,5))\n",
        "ax_4 = sns.barplot(x='neighbourhood',y='count', data = pd.DataFrame(top_50_,columns=['neighbourhood','count'][:20]))\n",
        "ax_4.set_title('Count of Neighbourhood')\n",
        "ax_4.set_ylabel('Frequency')\n",
        "ax_4.set_xlabel('Neighbourhood')\n",
        "ax_4.set_xticklabels(ax_4.get_xticklabels(), rotation=80);\n",
        "plt.show()\n",
        "     "
      ],
      "metadata": {
        "id": "2vzqn19WkT8v"
      },
      "execution_count": null,
      "outputs": []
    },
    {
      "cell_type": "markdown",
      "source": [
        "**Observations**:\n",
        "\n",
        "\n",
        "1.  The above plot shows us some of the top Neighbours towns we can say.\n",
        "2.  People like to stay at these towns more offent\n",
        " \n",
        "\n"
      ],
      "metadata": {
        "id": "ym8rN8VEkXLP"
      }
    },
    {
      "cell_type": "markdown",
      "source": [
        "#### Chart - 4"
      ],
      "metadata": {
        "id": "4Of9eVA-YrdM"
      }
    },
    {
      "cell_type": "code",
      "source": [
        "# Chart - 4 visualization code"
      ],
      "metadata": {
        "id": "irlUoxc8YrdO"
      },
      "execution_count": null,
      "outputs": []
    },
    {
      "cell_type": "markdown",
      "source": [
        "# **5. column_no_5 latitude & longitude:**"
      ],
      "metadata": {
        "id": "8JXtfv3ukqO7"
      }
    },
    {
      "cell_type": "code",
      "source": [
        "data[['latitude','longitude']]"
      ],
      "metadata": {
        "id": "zGQRidv5kxha"
      },
      "execution_count": null,
      "outputs": []
    },
    {
      "cell_type": "markdown",
      "source": [
        "**Observation**:\n",
        "\n",
        "\n",
        "1. We can see the exact locations from this columns.\n",
        "  \n",
        "\n"
      ],
      "metadata": {
        "id": "AEswgoLnk1RQ"
      }
    },
    {
      "cell_type": "code",
      "source": [
        "# simple scatterplot\n",
        "\n",
        "plt.figure(figsize=(10,6))\n",
        "ax_5 = sns.scatterplot(data.longitude,data.latitude,hue=data.neighbourhood_group)\n",
        "ax_5.set_title('Density of rooms')\n",
        "ax_5.set_ylabel('latitude')\n",
        "ax_5.set_xlabel('longitude')\n",
        "plt.show()"
      ],
      "metadata": {
        "id": "8ADG2u-JlBrl"
      },
      "execution_count": null,
      "outputs": []
    },
    {
      "cell_type": "markdown",
      "source": [
        "**Observations**:\n",
        "\n",
        "\n",
        "\n",
        "1. latitude and longtitude visulalizes us that Brooklyn and Manhattan are the most dense with hotels and apartments followed by queens island.  \n",
        "\n"
      ],
      "metadata": {
        "id": "qScI_RQPlECq"
      }
    },
    {
      "cell_type": "markdown",
      "source": [
        "#### Chart - 5"
      ],
      "metadata": {
        "id": "bamQiAODYuh1"
      }
    },
    {
      "cell_type": "code",
      "source": [
        "# Chart - 5 visualization code"
      ],
      "metadata": {
        "id": "TIJwrbroYuh3"
      },
      "execution_count": null,
      "outputs": []
    },
    {
      "cell_type": "markdown",
      "source": [
        "# **6. Column_no_6 room_type:**"
      ],
      "metadata": {
        "id": "lUJdFwqplNx9"
      }
    },
    {
      "cell_type": "code",
      "source": [
        "data[['room_type']].nunique()"
      ],
      "metadata": {
        "id": "7H0j-1AplSzV"
      },
      "execution_count": null,
      "outputs": []
    },
    {
      "cell_type": "code",
      "source": [
        "# count_plot'\n",
        "plt.figure(figsize=(10,5))\n",
        "sns_6 = sns.countplot(x='room_type',data = data)\n",
        "sns_6.set_title('frequency_plot')\n",
        "sns_6.set_ylabel('frequency')\n",
        "sns_6.set_xlabel('room_type')\n",
        "plt.show()"
      ],
      "metadata": {
        "id": "SvTAHF78lVqE"
      },
      "execution_count": null,
      "outputs": []
    },
    {
      "cell_type": "markdown",
      "source": [
        "**Observations**:\n",
        "\n",
        "1.   There are three types of rooms\n",
        "\n",
        "2.   Namely:\n",
        "\n",
        "1.Private room\n",
        "\n",
        "2.Entire home/apt room_type\n",
        "\n",
        "3.Shared room.\n",
        "\n",
        "\n",
        "3.   People mostly prefered to take whole apartment on rent followed by Private room.\n",
        "\n",
        "4.   very few people prefered to have shared rooms.\n",
        "\n",
        "  We will try to catagorise the 'price'like cheap,affordable and expensive and then analyse the 'price' for 'room_type' as per it.\n",
        "\n",
        "\n"
      ],
      "metadata": {
        "id": "FBiW2L4blc1E"
      }
    },
    {
      "cell_type": "markdown",
      "source": [
        "#### Chart - 6"
      ],
      "metadata": {
        "id": "OH-pJp9IphqM"
      }
    },
    {
      "cell_type": "code",
      "source": [
        "# Chart - 6 visualization code"
      ],
      "metadata": {
        "id": "kuRf4wtuphqN"
      },
      "execution_count": null,
      "outputs": []
    },
    {
      "cell_type": "markdown",
      "source": [
        "# **7.column_no_7 price:**"
      ],
      "metadata": {
        "id": "SjsOhbLUm1rr"
      }
    },
    {
      "cell_type": "code",
      "source": [
        "data[['price']].describe()"
      ],
      "metadata": {
        "id": "6GCKX9WLm6cw"
      },
      "execution_count": null,
      "outputs": []
    },
    {
      "cell_type": "code",
      "source": [
        "#function to catagory the types of rooms.\n",
        "def price_catagory(price):\n",
        "  if price<=80:\n",
        "    return 'cheap'\n",
        "  elif price>=80 and price<=500:\n",
        "    return 'affordable'\n",
        "  else:\n",
        "    return 'Expensive'\n",
        "     \n"
      ],
      "metadata": {
        "id": "F5U4srfnm-us"
      },
      "execution_count": null,
      "outputs": []
    },
    {
      "cell_type": "code",
      "source": [
        "plt.figure(figsize=(10,5))\n",
        "ax_7 = sns.countplot(x=data['price'].apply(price_catagory))\n",
        "ax_7.set_title('Count Plot')\n",
        "ax_7.set_xlabel('Catagories of rooms')\n",
        "ax_7.set_ylabel(\"count\")\n",
        "plt.show()\n",
        "     "
      ],
      "metadata": {
        "id": "pqOA9bDOnBZg"
      },
      "execution_count": null,
      "outputs": []
    },
    {
      "cell_type": "markdown",
      "source": [
        "**Observations**:\n",
        "\n",
        "\n",
        "\n",
        "1.   We have considered to devide the whole price range into three catogories\n",
        "a.cheap (price range below or equal to 80$)\n",
        "\n",
        "b.Affordable(for price range 80 to 500$)\n",
        "\n",
        "c.Expensive(for price range more then 500$)\n",
        "\n",
        "So, it look like people have more intrest in having \"affordable\" rooms/apartments rather than having cheap and expensive rooms.\n",
        "\n"
      ],
      "metadata": {
        "id": "5r9VX1k6nDN6"
      }
    },
    {
      "cell_type": "markdown",
      "source": [
        "#### Chart - 7"
      ],
      "metadata": {
        "id": "PIIx-8_IphqN"
      }
    },
    {
      "cell_type": "code",
      "source": [
        "# Chart - 7 visualization code"
      ],
      "metadata": {
        "id": "lqAIGUfyphqO"
      },
      "execution_count": null,
      "outputs": []
    },
    {
      "cell_type": "markdown",
      "source": [
        "# **8. column_no_8 minimum_nights:**"
      ],
      "metadata": {
        "id": "CGx639BonSZM"
      }
    },
    {
      "cell_type": "code",
      "source": [
        "data[['minimum_nights']].value_counts()"
      ],
      "metadata": {
        "id": "I1yg1xzXnYeB"
      },
      "execution_count": null,
      "outputs": []
    },
    {
      "cell_type": "code",
      "source": [
        "data[['minimum_nights']].describe()"
      ],
      "metadata": {
        "id": "C9-D90uKndhN"
      },
      "execution_count": null,
      "outputs": []
    },
    {
      "cell_type": "code",
      "source": [
        "ax = sns.distplot(data.minimum_nights)\n",
        "plt.title('Minimum no. of nights distribution')\n",
        "plt.show()"
      ],
      "metadata": {
        "id": "7WeZqI1dngvT"
      },
      "execution_count": null,
      "outputs": []
    },
    {
      "cell_type": "markdown",
      "source": [
        "observation\n",
        "\n",
        "1.   most of the nights booked are from 0 to less than 100 days.\n",
        "we will plot further and see.\n",
        "2.   we can see that there may be outliers.we can plot and check it.\n",
        "3.   we will plot, box plot and check.\n",
        "4.   log scale can show us the shape of skwed data.\n",
        "\n",
        "Note:How do you handle skewed data in Python?\n",
        "\n",
        "One way of handling right, or left, skewed data is to carry out the logarithmic transformation on our data. For example, np.log(x) will log transform the variable x in Python. There are other options as well as the Box-Cox and Square root transformations.\n",
        "\n"
      ],
      "metadata": {
        "id": "xlSEAg83niry"
      }
    },
    {
      "cell_type": "markdown",
      "source": [
        "**Observations From statistics:**\n",
        "\n",
        "\n",
        "\n",
        "1.  Average booking is around 7 nights.\n",
        "\n",
        "2.  minimum booking is for 1 night. \n",
        "3.  max booking is for more then a year or we can say for few years.\n",
        " \n",
        "\n"
      ],
      "metadata": {
        "id": "PnCIuZtKoGi5"
      }
    },
    {
      "cell_type": "code",
      "source": [
        "#https://www.marsja.se/transform-skewed-data-using-square-root-log-box-cox-methods-in-python/#Log_Transformation\n",
        "#https://seaborn.pydata.org/generated/seaborn.distplot.html\n",
        "from scipy.stats import boxcox \n",
        "# power transform \n",
        "data_box_cox_transform = boxcox(data.minimum_nights) #lambda=0 it means log transform by defination of box-cox transform\n",
        "     \n"
      ],
      "metadata": {
        "id": "E-0aKfThoaCC"
      },
      "execution_count": null,
      "outputs": []
    },
    {
      "cell_type": "code",
      "source": [
        "data_box_cox_transform\n",
        "     "
      ],
      "metadata": {
        "id": "mH-8JlkFoivj"
      },
      "execution_count": null,
      "outputs": []
    },
    {
      "cell_type": "code",
      "source": [
        "# plot for box-cox transformed data.\n",
        "sns.set_theme(); np.random.seed(0)\n",
        "plt.figure(figsize=(10,5))\n",
        "ax = sns.displot(data_box_cox_transform)\n",
        "plt.title('Minimum no. of nights distribution')"
      ],
      "metadata": {
        "id": "mfx3PKEvol71"
      },
      "execution_count": null,
      "outputs": []
    },
    {
      "cell_type": "markdown",
      "source": [
        "**Observations**:\n",
        "\n",
        "\n",
        "1.  it's very clear that the data is right skwed.\n",
        " \n",
        "\n"
      ],
      "metadata": {
        "id": "Bq9yTCzboqYo"
      }
    },
    {
      "cell_type": "code",
      "source": [
        "log_transform = np.log(data['minimum_nights'])"
      ],
      "metadata": {
        "id": "5_uul342ozVZ"
      },
      "execution_count": null,
      "outputs": []
    },
    {
      "cell_type": "code",
      "source": [
        "ax = sns.distplot(log_transform)\n",
        "plt.title('Minimum no. of nights distribution')\n",
        "     "
      ],
      "metadata": {
        "id": "OsaP37OMo2Ph"
      },
      "execution_count": null,
      "outputs": []
    },
    {
      "cell_type": "markdown",
      "source": [
        "**Observations**:\n",
        "\n",
        "\n",
        "\n",
        "1.   This plots shows that majority of room booking is one for 1 to 4 days.\n",
        "\n",
        "2.   Box-Cox transformed plot strictly shows that the majority of booking lies between 0 to 3 days.we have set the lambda parameter not equal to zero so it by defination of box-cox transform selected the best value of lambda.\n",
        "\n"
      ],
      "metadata": {
        "id": "bzWjPyTqpJay"
      }
    },
    {
      "cell_type": "markdown",
      "source": [
        "#### Chart - 8"
      ],
      "metadata": {
        "id": "BZR9WyysphqO"
      }
    },
    {
      "cell_type": "code",
      "source": [
        "# Chart - 8 visualization code"
      ],
      "metadata": {
        "id": "TdPTWpAVphqO"
      },
      "execution_count": null,
      "outputs": []
    },
    {
      "cell_type": "markdown",
      "source": [
        "# **9. column_no_9 Number_of_reviews:**"
      ],
      "metadata": {
        "id": "qKlCYdlQpVpF"
      }
    },
    {
      "cell_type": "code",
      "source": [
        "data[['number_of_reviews']].value_counts()"
      ],
      "metadata": {
        "id": "R3n1Ez5Ipb2D"
      },
      "execution_count": null,
      "outputs": []
    },
    {
      "cell_type": "code",
      "source": [
        "data[['number_of_reviews']].describe()"
      ],
      "metadata": {
        "id": "STJtnfWipfGf"
      },
      "execution_count": null,
      "outputs": []
    },
    {
      "cell_type": "code",
      "source": [
        "plt.figure(figsize=(10,5))\n",
        "ax = sns.distplot(x=data[\"number_of_reviews\"])\n",
        "plt.title('number_of_reviews')"
      ],
      "metadata": {
        "id": "u180DkilpicC"
      },
      "execution_count": null,
      "outputs": []
    },
    {
      "cell_type": "markdown",
      "source": [
        "Observatios:\n",
        "\n",
        "\n",
        "1.   Number of reviews are highly dense form 0 to 100 reviews.\n",
        "2.   we can say that most of the rooms are not rated and those which are frequently occupied only those are rated.\n",
        "3.  maximun 629 times the perticular room is rated.\n",
        "4.  Average rating is around 23.\n",
        "\n"
      ],
      "metadata": {
        "id": "2DCxG5MKpl__"
      }
    },
    {
      "cell_type": "markdown",
      "source": [
        "#### Chart - 9"
      ],
      "metadata": {
        "id": "YJ55k-q6phqO"
      }
    },
    {
      "cell_type": "code",
      "source": [
        "# Chart - 9 visualization code"
      ],
      "metadata": {
        "id": "B2aS4O1ophqO"
      },
      "execution_count": null,
      "outputs": []
    },
    {
      "cell_type": "markdown",
      "source": [
        "# **10. column_no_10 last_review:**"
      ],
      "metadata": {
        "id": "72Yc-nboqF-j"
      }
    },
    {
      "cell_type": "code",
      "source": [
        "data[['last_review']]\n",
        "     "
      ],
      "metadata": {
        "id": "v_8OKYnbqLlQ"
      },
      "execution_count": null,
      "outputs": []
    },
    {
      "cell_type": "markdown",
      "source": [
        "Observations:\n",
        "\n",
        "\n",
        "1.   This is the column which signifies the last time the room was given review.\n",
        "2.   secondly,there are certain rooms which are not reviewd at all, it can happen that no one had visited till now or not bothered to give review to those rooms. \n",
        "3.   Also there are nan valuse these values can either be filled with the help of domain expert or with suitable value like since no one has reviwed we will fill it up with 'zeros'.\n",
        "\n"
      ],
      "metadata": {
        "id": "869yl43oqR6x"
      }
    },
    {
      "cell_type": "markdown",
      "source": [
        "# **column_no_9 reviews_per_month:**"
      ],
      "metadata": {
        "id": "HkEYVsL9qh4g"
      }
    },
    {
      "cell_type": "code",
      "source": [
        "data[[\"reviews_per_month\"]].describe()"
      ],
      "metadata": {
        "id": "MZpVvg7nqoIu"
      },
      "execution_count": null,
      "outputs": []
    },
    {
      "cell_type": "markdown",
      "source": [
        "**Observations**:\n",
        "\n",
        "1.   max is 58 times the rating is given.\n",
        "2.  min is 0.\n",
        "3.  75% of data is for 1.5 time rating.\n",
        "\n"
      ],
      "metadata": {
        "id": "q5kuqxliqpoO"
      }
    },
    {
      "cell_type": "markdown",
      "source": [
        "#### Chart - 10"
      ],
      "metadata": {
        "id": "U2RJ9gkRphqQ"
      }
    },
    {
      "cell_type": "code",
      "source": [
        "# Chart - 10 visualization code"
      ],
      "metadata": {
        "id": "GM7a4YP4phqQ"
      },
      "execution_count": null,
      "outputs": []
    },
    {
      "cell_type": "markdown",
      "source": [
        "# **column_no_10 calculated_host_listings_count:**"
      ],
      "metadata": {
        "id": "8330KdqXq-tJ"
      }
    },
    {
      "cell_type": "code",
      "source": [
        "Counter(data['calculated_host_listings_count']).most_common(50)\n",
        "#Counter( data['neighbourhood']).most_common("
      ],
      "metadata": {
        "id": "Um4bTcZwrHrh"
      },
      "execution_count": null,
      "outputs": []
    },
    {
      "cell_type": "code",
      "source": [
        "print('1. There is one host who is {} time listed. '.format(data.calculated_host_listings_count.max()))\n",
        "print('2. This is the corresponding host_id {} who is having highest listing. ' .format(data.host_id.value_counts().idxmax()))\n",
        "print('2. This is the corresponding host_id {} who is having lowest listing. ' .format(data.host_id.value_counts().idxmin()))\n",
        "     "
      ],
      "metadata": {
        "id": "r1pCJNbOrJme"
      },
      "execution_count": null,
      "outputs": []
    },
    {
      "cell_type": "markdown",
      "source": [
        "#### Chart - 11"
      ],
      "metadata": {
        "id": "x-EpHcCOp1ci"
      }
    },
    {
      "cell_type": "code",
      "source": [
        "# Chart - 11 visualization code"
      ],
      "metadata": {
        "id": "mAQTIvtqp1cj"
      },
      "execution_count": null,
      "outputs": []
    },
    {
      "cell_type": "markdown",
      "source": [
        "# **11. column_no_11 availability_365:**"
      ],
      "metadata": {
        "id": "6eSfUx8V2hzn"
      }
    },
    {
      "cell_type": "code",
      "source": [
        "data[['availability_365']].value_counts()"
      ],
      "metadata": {
        "id": "B8vk0oWp2qoS"
      },
      "execution_count": null,
      "outputs": []
    },
    {
      "cell_type": "code",
      "source": [
        "ax = sns.scatterplot(data=data,x='availability_365',y='price')\n",
        "plt.title(\"Scatter_availability_365\")\n",
        "     "
      ],
      "metadata": {
        "id": "Mky4TtGe3KGe"
      },
      "execution_count": null,
      "outputs": []
    },
    {
      "cell_type": "markdown",
      "source": [
        "**Observations:**\n",
        "\n",
        "\n",
        "1.   From above plot we can see that most of the available rooms are in the price range of 0 to 2000.\n",
        "2.  Very few are available for price above 2000$, this is quite obivious that there are very few peoples who prefer to have expensive rooms\n"
      ],
      "metadata": {
        "id": "sj2vPh013Nxi"
      }
    },
    {
      "cell_type": "markdown",
      "source": [
        "# **Multivariate Analysis:**"
      ],
      "metadata": {
        "id": "TdFETXH53bge"
      }
    },
    {
      "cell_type": "code",
      "source": [
        "\n",
        "data.columns"
      ],
      "metadata": {
        "id": "n5oQzZCo3h91"
      },
      "execution_count": null,
      "outputs": []
    },
    {
      "cell_type": "markdown",
      "source": [
        "#### Chart - 12"
      ],
      "metadata": {
        "id": "n3dbpmDWp1ck"
      }
    },
    {
      "cell_type": "code",
      "source": [
        "# Chart - 12 visualization code"
      ],
      "metadata": {
        "id": "bwevp1tKp1ck"
      },
      "execution_count": null,
      "outputs": []
    },
    {
      "cell_type": "markdown",
      "source": [
        "# **Lets find the relation between neighbourhood_group and price:**"
      ],
      "metadata": {
        "id": "dDBdvZ5b3nol"
      }
    },
    {
      "cell_type": "code",
      "source": [
        "price_df = pd.DataFrame(data['price'].apply(price_catagory))"
      ],
      "metadata": {
        "id": "St5kjyiz3xIO"
      },
      "execution_count": null,
      "outputs": []
    },
    {
      "cell_type": "code",
      "source": [
        "price_df.head()"
      ],
      "metadata": {
        "id": "jTCMBqJM3zrI"
      },
      "execution_count": null,
      "outputs": []
    },
    {
      "cell_type": "code",
      "source": [
        "plt.style.use('fivethirtyeight')\n",
        "price_500 = data[data.price <700]\n",
        "plt.figure(figsize=(10,6))\n",
        "plt.title(\"price for each neighbourhood_group\")\n",
        "sns.boxplot(y= 'price',x= 'neighbourhood_group',data=price_500)\n",
        "plt.show()\n",
        "     "
      ],
      "metadata": {
        "id": "f_z8GzGl32ep"
      },
      "execution_count": null,
      "outputs": []
    },
    {
      "cell_type": "markdown",
      "source": [
        "Observations:\n",
        "\n",
        "\n",
        "\n",
        "\n",
        "1.   We can see that Manhattan is the most expensive destination immediatly followed by Brooklyn.\n",
        "2.  Queens, staten island and Bronx, are having price range less as compared to\n",
        "other two."
      ],
      "metadata": {
        "id": "Qp15cciV34ny"
      }
    },
    {
      "cell_type": "markdown",
      "source": [
        "#### Chart - 13"
      ],
      "metadata": {
        "id": "Ag9LCva-p1cl"
      }
    },
    {
      "cell_type": "code",
      "source": [
        "# Chart - 13 visualization code"
      ],
      "metadata": {
        "id": "EUfxeq9-p1cl"
      },
      "execution_count": null,
      "outputs": []
    },
    {
      "cell_type": "markdown",
      "source": [
        "# **Relationship between neighbourhood_group and median price.**"
      ],
      "metadata": {
        "id": "xfYWcXaO4H4_"
      }
    },
    {
      "cell_type": "code",
      "source": [
        "#rouping median price with neighbourhood_group \n",
        "neigh_group_price_group = data.groupby(['neighbourhood_group']).agg({'price':'median'}).reset_index() \n",
        "\n",
        "     "
      ],
      "metadata": {
        "id": "Aj5bVPEF4QLc"
      },
      "execution_count": null,
      "outputs": []
    },
    {
      "cell_type": "code",
      "source": [
        "neigh_group_price_group"
      ],
      "metadata": {
        "id": "9fI_sgmJ5qHy"
      },
      "execution_count": null,
      "outputs": []
    },
    {
      "cell_type": "code",
      "source": [
        "#barplot for price variation and neighbourhood.\n",
        "plt.figure(figsize=(15,5))\n",
        "ax_12 = sns.barplot(x = 'neighbourhood_group',y = 'price',data = neigh_group_price_group)\n",
        "ax_12.set_title(' Median_price vs Neighbourhood_group')\n",
        "ax_12.set_xlabel('neighbourhood_group')\n",
        "ax_12.set_ylabel(\"Median_price\")\n",
        "plt.show()"
      ],
      "metadata": {
        "id": "nyg9Yv965tlA"
      },
      "execution_count": null,
      "outputs": []
    },
    {
      "cell_type": "markdown",
      "source": [
        "Observations:\n",
        "\n",
        "\n",
        "\n",
        "1.   'Manhattan' is the area having highest median price,followed by Brooklyn.\n",
        "\n",
        "\n"
      ],
      "metadata": {
        "id": "2PWELAOH5xE5"
      }
    },
    {
      "cell_type": "markdown",
      "source": [
        "chart-14"
      ],
      "metadata": {
        "id": "X_uyXZdF6CjZ"
      }
    },
    {
      "cell_type": "code",
      "source": [
        "# Chart - 14 visualization code"
      ],
      "metadata": {
        "id": "xyC9zolEZNRQ"
      },
      "execution_count": null,
      "outputs": []
    },
    {
      "cell_type": "markdown",
      "source": [
        "# **Lets find the relation between neighbourhood and price:**"
      ],
      "metadata": {
        "id": "ZGs6SwhB6RTh"
      }
    },
    {
      "cell_type": "markdown",
      "source": [
        "# We will make group of all neighbourhood who are having median of price variable."
      ],
      "metadata": {
        "id": "SfK92A3c6V-d"
      }
    },
    {
      "cell_type": "markdown",
      "source": [
        "# Median have less impact of outliers as compared to mean."
      ],
      "metadata": {
        "id": "_lQ3i_Ur6bbL"
      }
    },
    {
      "cell_type": "code",
      "source": [
        "data[['neighbourhood']].nunique()"
      ],
      "metadata": {
        "id": "ylA6O1QQ6fBL"
      },
      "execution_count": null,
      "outputs": []
    },
    {
      "cell_type": "code",
      "source": [
        "#we will\n",
        "neigh_price_group = data.groupby(['neighbourhood']).agg({'price':'median'}).reset_index()"
      ],
      "metadata": {
        "id": "C4ZsjvDk7Jb4"
      },
      "execution_count": null,
      "outputs": []
    },
    {
      "cell_type": "code",
      "source": [
        "neigh_price_group"
      ],
      "metadata": {
        "id": "_-F8xLCs7OvB"
      },
      "execution_count": null,
      "outputs": []
    },
    {
      "cell_type": "code",
      "source": [
        "#barplot for price variation and neighbourhood.\n",
        "plt.figure(figsize=(15,5))\n",
        "sns.barplot(x = 'neighbourhood',y = 'price',data = neigh_price_group.head(10))\n",
        "plt.title(\"Median_price Vs neighbourhood\")\n",
        "plt.show()\n",
        "     "
      ],
      "metadata": {
        "id": "NpQXNKNX7Tj0"
      },
      "execution_count": null,
      "outputs": []
    },
    {
      "cell_type": "markdown",
      "source": [
        "Observations:\n",
        "\n",
        "\n",
        "\n",
        "1.   The price variation considering median value tells us that 'Allerton', 'Asden Heights','Arrochar',and other are the top 10 neighbourhoods.\n",
        "2.   'Battery Park city' is having high price in Top 10 neighbourhoods.\n",
        "\n",
        "\n"
      ],
      "metadata": {
        "id": "M2gBpLJY7XGS"
      }
    },
    {
      "cell_type": "markdown",
      "source": [
        "Chat-15\n"
      ],
      "metadata": {
        "id": "K7JozRnu7inf"
      }
    },
    {
      "cell_type": "code",
      "source": [
        "# Chart - 15 visualization code\n",
        "     "
      ],
      "metadata": {
        "id": "syi5ZPP_7rEX"
      },
      "execution_count": null,
      "outputs": []
    },
    {
      "cell_type": "markdown",
      "source": [
        "# **Relationship between price and room_type.**"
      ],
      "metadata": {
        "id": "-VxVY_jY7vBz"
      }
    },
    {
      "cell_type": "code",
      "source": [
        "plt.figure(figsize = (15,5))\n",
        "ax_8 = sns.barplot(y= 'price', x= 'room_type',data=data)\n",
        "ax_8.set_title('Price vs Room Type')\n",
        "ax_8.set_xlabel('Room Type')\n",
        "ax_8.set_ylabel(\"Price\")\n",
        "plt.show()"
      ],
      "metadata": {
        "id": "tHXVsehE7z3Q"
      },
      "execution_count": null,
      "outputs": []
    },
    {
      "cell_type": "markdown",
      "source": [
        "Observations:\n",
        "\n",
        "\n",
        "\n",
        "\n",
        "\n",
        "\n",
        "1.  we can see that most of the prices for all type of rooms lies within 2000$ \n",
        "2.  shared rooms prices are having very less price\n",
        "3.   very few rooms are there which are in expensive cataagory.\n",
        "4.   large number of rooms are available in either entire room/apartment or private rooms/apartment.\n",
        "\n"
      ],
      "metadata": {
        "id": "78UC7w5071lM"
      }
    },
    {
      "cell_type": "code",
      "source": [
        "data[\"number_of_reviews\"].value_counts()\n",
        "     "
      ],
      "metadata": {
        "id": "spwug2YT8LVL"
      },
      "execution_count": null,
      "outputs": []
    },
    {
      "cell_type": "markdown",
      "source": [
        "# **Relationship between room_type and neighbourhood_group.**"
      ],
      "metadata": {
        "id": "m-hNxNhR8OPM"
      }
    },
    {
      "cell_type": "code",
      "source": [
        "plt.figure(figsize = (10,5))\n",
        "ax_11 = sns.countplot(x='room_type',hue='neighbourhood_group',data=data)\n",
        "ax_11.set_title(' Room Type vs neighbourhood_group')\n",
        "ax_11.set_xlabel('Room Type')\n",
        "ax_11.set_ylabel(\"neighbourhood_group\")\n",
        "plt.show()"
      ],
      "metadata": {
        "id": "-5X4DhsT8RzU"
      },
      "execution_count": null,
      "outputs": []
    },
    {
      "cell_type": "markdown",
      "source": [
        "# **Which neighbourhood are generating maximum,minimum,reveneus from room types.**"
      ],
      "metadata": {
        "id": "chxx7AvX8VG2"
      }
    },
    {
      "cell_type": "code",
      "source": [
        "room_type_df = data.groupby(['neighbourhood','room_type']).agg({'price':'sum'})\n",
        "room_type_df.sort_values(\"price\",ascending=False)"
      ],
      "metadata": {
        "id": "BTZS7wBk8b8a"
      },
      "execution_count": null,
      "outputs": []
    },
    {
      "cell_type": "code",
      "source": [
        "room_type_df = pd.pivot_table(room_type_df, values='price', index=['neighbourhood'], columns=['room_type'])\n",
        "     "
      ],
      "metadata": {
        "id": "Gsja2PeA8vi2"
      },
      "execution_count": null,
      "outputs": []
    },
    {
      "cell_type": "code",
      "source": [
        "room_type_df.head()"
      ],
      "metadata": {
        "id": "R4FgjQkm8nu_"
      },
      "execution_count": null,
      "outputs": []
    },
    {
      "cell_type": "code",
      "source": [
        "print(\"******* Maximun revenue in Entire home/apt...*********\",'\\n')\n",
        "print(room_type_df.sort_values('Entire home/apt',ascending=False).head(1),'\\n')\n",
        "\n",
        "print(\"***********************************************************************\",'\\n')\n",
        "\n",
        "print(\"******* minimun revenue in Entire home/apt...*********\",'\\n')\n",
        "print(room_type_df.sort_values('Entire home/apt',ascending=True).head(1),'\\n')\n",
        "\n",
        "print(\"***********************************************************************\",'\\n')\n",
        "\n",
        "print(\"******* Maximun revenue in Private room...*********\",'\\n')\n",
        "print(room_type_df.sort_values('Private room',ascending=False).head(1),'\\n')\n",
        "\n",
        "print(\"***********************************************************************\",'\\n')\n",
        "\n",
        "print(\"******* Minimun revenue in Private room...*********\",'\\n')\n",
        "print(room_type_df.sort_values('Private room',ascending=True).head(1),'\\n')\n",
        "\n",
        "\n",
        "\n",
        "print(\"***********************************************************************\",'\\n')\n",
        "\n",
        "print(\"******* Maximun revenue in Shared room...*********\",'\\n')\n",
        "print(room_type_df.sort_values('Shared room',ascending=False).head(1),'\\n')\n",
        "\n",
        "\n",
        "\n",
        "print(\"***********************************************************************\",'\\n')\n",
        "\n",
        "print(\"******* Minimum revenue in Shared room...*********\",'\\n')\n",
        "print(room_type_df.sort_values('Shared room',ascending=True).head(1),'\\n')\n",
        "\n"
      ],
      "metadata": {
        "id": "oZn4vt8T8_F8"
      },
      "execution_count": null,
      "outputs": []
    },
    {
      "cell_type": "markdown",
      "source": [
        "# **Conclusion**\n",
        "\n",
        "**We tried to put some light by performed the Extensive EDA for Airbnb dataset as always there is no end to EDA this can be extended in n-dimenssions and lots and lots of conclusion can be drawn from EDA this is where 80% of time is been spent by a Data Scientist.**"
      ],
      "metadata": {
        "id": "NmRuxqHA9KyG"
      }
    },
    {
      "cell_type": "markdown",
      "source": [
        "***Hurrah! You have successfully completed your EDA Capstone Project !!!***"
      ],
      "metadata": {
        "id": "nEbOqAn79VcI"
      }
    },
    {
      "cell_type": "code",
      "source": [],
      "metadata": {
        "id": "mGVLY0l19O_J"
      },
      "execution_count": null,
      "outputs": []
    }
  ]
}